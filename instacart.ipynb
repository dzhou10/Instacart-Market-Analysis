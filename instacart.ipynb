{
 "cells": [
  {
   "cell_type": "markdown",
   "metadata": {},
   "source": [
    "## Instacart Market Analysis\n",
    "\n",
    "    \n",
    "<br>\n",
    "\n",
    "Use this anonymized data on customer orders over time to predict which previously purchased products will be in a user’s next order. \n",
    "\n",
    "***\n"
   ]
  },
  {
   "cell_type": "code",
   "execution_count": 2,
   "metadata": {
    "collapsed": false
   },
   "outputs": [],
   "source": [
    "# load libraries\n",
    "import numpy as np\n",
    "import pandas as pd"
   ]
  },
  {
   "cell_type": "code",
   "execution_count": null,
   "metadata": {
    "collapsed": true
   },
   "outputs": [],
   "source": [
    "# import data\n",
    "orders = pd.read_csv(\"./orders.csv\")\n",
    "order_prior = pd.read_csv(\"./order_product_prior.csv\")\n",
    "order_train = pd.read_csv(\"./order_product_train.csv\")\n",
    "aisles = pd.read_csv(\"./aisles.csv\")\n",
    "departments = pd.read_csv(\"./departments.csv\")"
   ]
  }
 ],
 "metadata": {
  "kernelspec": {
   "display_name": "Python 2",
   "language": "python",
   "name": "python2"
  },
  "language_info": {
   "codemirror_mode": {
    "name": "ipython",
    "version": 2
   },
   "file_extension": ".py",
   "mimetype": "text/x-python",
   "name": "python",
   "nbconvert_exporter": "python",
   "pygments_lexer": "ipython2",
   "version": "2.7.13"
  }
 },
 "nbformat": 4,
 "nbformat_minor": 2
}
